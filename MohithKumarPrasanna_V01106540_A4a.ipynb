{
 "cells": [
  {
   "cell_type": "code",
   "execution_count": null,
   "id": "19076e99",
   "metadata": {},
   "outputs": [],
   "source": []
  },
  {
   "cell_type": "code",
   "execution_count": 1,
   "id": "a6bbcf6d",
   "metadata": {
    "scrolled": true
   },
   "outputs": [
    {
     "name": "stdout",
     "output_type": "stream",
     "text": [
      "Collecting factor_analyzer\n",
      "  Downloading factor_analyzer-0.5.1.tar.gz (42 kB)\n",
      "     ---------------------------------------- 0.0/42.8 kB ? eta -:--:--\n",
      "     ------------------ ------------------- 20.5/42.8 kB 217.9 kB/s eta 0:00:01\n",
      "     --------------------------- ---------- 30.7/42.8 kB 262.6 kB/s eta 0:00:01\n",
      "     -------------------------------------- 42.8/42.8 kB 298.9 kB/s eta 0:00:00\n",
      "  Installing build dependencies: started\n",
      "  Installing build dependencies: finished with status 'done'\n",
      "  Getting requirements to build wheel: started\n",
      "  Getting requirements to build wheel: finished with status 'done'\n",
      "  Preparing metadata (pyproject.toml): started\n",
      "  Preparing metadata (pyproject.toml): finished with status 'done'\n",
      "Requirement already satisfied: pandas in c:\\users\\mohit\\anaconda3\\lib\\site-packages (from factor_analyzer) (2.0.3)\n",
      "Requirement already satisfied: scipy in c:\\users\\mohit\\anaconda3\\lib\\site-packages (from factor_analyzer) (1.11.1)\n",
      "Requirement already satisfied: numpy in c:\\users\\mohit\\anaconda3\\lib\\site-packages (from factor_analyzer) (1.24.3)\n",
      "Requirement already satisfied: scikit-learn in c:\\users\\mohit\\anaconda3\\lib\\site-packages (from factor_analyzer) (1.3.0)\n",
      "Requirement already satisfied: python-dateutil>=2.8.2 in c:\\users\\mohit\\anaconda3\\lib\\site-packages (from pandas->factor_analyzer) (2.8.2)\n",
      "Requirement already satisfied: pytz>=2020.1 in c:\\users\\mohit\\anaconda3\\lib\\site-packages (from pandas->factor_analyzer) (2023.3.post1)\n",
      "Requirement already satisfied: tzdata>=2022.1 in c:\\users\\mohit\\anaconda3\\lib\\site-packages (from pandas->factor_analyzer) (2023.3)\n",
      "Requirement already satisfied: joblib>=1.1.1 in c:\\users\\mohit\\anaconda3\\lib\\site-packages (from scikit-learn->factor_analyzer) (1.2.0)\n",
      "Requirement already satisfied: threadpoolctl>=2.0.0 in c:\\users\\mohit\\anaconda3\\lib\\site-packages (from scikit-learn->factor_analyzer) (2.2.0)\n",
      "Requirement already satisfied: six>=1.5 in c:\\users\\mohit\\anaconda3\\lib\\site-packages (from python-dateutil>=2.8.2->pandas->factor_analyzer) (1.16.0)\n",
      "Building wheels for collected packages: factor_analyzer\n",
      "  Building wheel for factor_analyzer (pyproject.toml): started\n",
      "  Building wheel for factor_analyzer (pyproject.toml): finished with status 'done'\n",
      "  Created wheel for factor_analyzer: filename=factor_analyzer-0.5.1-py2.py3-none-any.whl size=42623 sha256=25ba3c63b29ddb312e79569a749aa5fc61d79e310181b29915100597540d9936\n",
      "  Stored in directory: c:\\users\\mohit\\appdata\\local\\pip\\cache\\wheels\\fa\\f7\\53\\a55a8a56668a6fe0199e0e02b6e0ae3007ec35cdf6e4c25df7\n",
      "Successfully built factor_analyzer\n",
      "Installing collected packages: factor_analyzer\n",
      "Successfully installed factor_analyzer-0.5.1\n"
     ]
    }
   ],
   "source": [
    "!pip install factor_analyzer"
   ]
  },
  {
   "cell_type": "code",
   "execution_count": 2,
   "id": "43a046d6",
   "metadata": {},
   "outputs": [],
   "source": [
    "import pandas as pd\n",
    "import numpy as np\n",
    "import factor_analyzer as fa\n",
    "import matplotlib.pyplot as plt\n",
    "from scipy.io import loadmat"
   ]
  },
  {
   "cell_type": "code",
   "execution_count": 3,
   "id": "285d97a4",
   "metadata": {},
   "outputs": [
    {
     "name": "stderr",
     "output_type": "stream",
     "text": [
      "C:\\Users\\mohit\\anaconda3\\Lib\\site-packages\\_distutils_hack\\__init__.py:33: UserWarning: Setuptools is replacing distutils.\n",
      "  warnings.warn(\"Setuptools is replacing distutils.\")\n"
     ]
    }
   ],
   "source": [
    "import importlib\n",
    "import pip\n",
    "\n",
    "def install_and_load(packages):\n",
    "    for package in packages:\n",
    "        try:\n",
    "            module = importlib.import_module(package)\n",
    "        except ImportError:\n",
    "            pip.main(['install', package])\n",
    "            module = importlib.import_module(package)"
   ]
  },
  {
   "cell_type": "code",
   "execution_count": 4,
   "id": "6b009c03",
   "metadata": {},
   "outputs": [],
   "source": [
    "# List of packages to install and load\n",
    "packages = [\"pandas\", \"numpy\", \"factor_analyzer\", \"matplotlib\", \"scipy\"]"
   ]
  },
  {
   "cell_type": "code",
   "execution_count": 5,
   "id": "1b9e8386",
   "metadata": {},
   "outputs": [],
   "source": [
    "# Call the function\n",
    "install_and_load(packages)"
   ]
  },
  {
   "cell_type": "code",
   "execution_count": 6,
   "id": "4d95551e",
   "metadata": {},
   "outputs": [],
   "source": [
    "# List of packages to install and load\n",
    "packages = [\"pandas\", \"numpy\", \"factor_analyzer\", \"matplotlib\", \"scipy\"]"
   ]
  },
  {
   "cell_type": "code",
   "execution_count": 7,
   "id": "578bd7cf",
   "metadata": {},
   "outputs": [],
   "source": [
    "# Call the function\n",
    "install_and_load(packages)"
   ]
  },
  {
   "cell_type": "code",
   "execution_count": 8,
   "id": "f9e245e8",
   "metadata": {},
   "outputs": [],
   "source": [
    "# Read the data\n",
    "survey_df = pd.read_csv('E:\\\\R\\\\Assignment 4\\\\Survey.csv')\n",
    "sur_int = survey_df.iloc[:, 19:45]  # Adjust the column range accordingly"
   ]
  },
  {
   "cell_type": "code",
   "execution_count": 9,
   "id": "c53dfc9d",
   "metadata": {},
   "outputs": [
    {
     "data": {
      "text/html": [
       "<style>#sk-container-id-1 {color: black;}#sk-container-id-1 pre{padding: 0;}#sk-container-id-1 div.sk-toggleable {background-color: white;}#sk-container-id-1 label.sk-toggleable__label {cursor: pointer;display: block;width: 100%;margin-bottom: 0;padding: 0.3em;box-sizing: border-box;text-align: center;}#sk-container-id-1 label.sk-toggleable__label-arrow:before {content: \"▸\";float: left;margin-right: 0.25em;color: #696969;}#sk-container-id-1 label.sk-toggleable__label-arrow:hover:before {color: black;}#sk-container-id-1 div.sk-estimator:hover label.sk-toggleable__label-arrow:before {color: black;}#sk-container-id-1 div.sk-toggleable__content {max-height: 0;max-width: 0;overflow: hidden;text-align: left;background-color: #f0f8ff;}#sk-container-id-1 div.sk-toggleable__content pre {margin: 0.2em;color: black;border-radius: 0.25em;background-color: #f0f8ff;}#sk-container-id-1 input.sk-toggleable__control:checked~div.sk-toggleable__content {max-height: 200px;max-width: 100%;overflow: auto;}#sk-container-id-1 input.sk-toggleable__control:checked~label.sk-toggleable__label-arrow:before {content: \"▾\";}#sk-container-id-1 div.sk-estimator input.sk-toggleable__control:checked~label.sk-toggleable__label {background-color: #d4ebff;}#sk-container-id-1 div.sk-label input.sk-toggleable__control:checked~label.sk-toggleable__label {background-color: #d4ebff;}#sk-container-id-1 input.sk-hidden--visually {border: 0;clip: rect(1px 1px 1px 1px);clip: rect(1px, 1px, 1px, 1px);height: 1px;margin: -1px;overflow: hidden;padding: 0;position: absolute;width: 1px;}#sk-container-id-1 div.sk-estimator {font-family: monospace;background-color: #f0f8ff;border: 1px dotted black;border-radius: 0.25em;box-sizing: border-box;margin-bottom: 0.5em;}#sk-container-id-1 div.sk-estimator:hover {background-color: #d4ebff;}#sk-container-id-1 div.sk-parallel-item::after {content: \"\";width: 100%;border-bottom: 1px solid gray;flex-grow: 1;}#sk-container-id-1 div.sk-label:hover label.sk-toggleable__label {background-color: #d4ebff;}#sk-container-id-1 div.sk-serial::before {content: \"\";position: absolute;border-left: 1px solid gray;box-sizing: border-box;top: 0;bottom: 0;left: 50%;z-index: 0;}#sk-container-id-1 div.sk-serial {display: flex;flex-direction: column;align-items: center;background-color: white;padding-right: 0.2em;padding-left: 0.2em;position: relative;}#sk-container-id-1 div.sk-item {position: relative;z-index: 1;}#sk-container-id-1 div.sk-parallel {display: flex;align-items: stretch;justify-content: center;background-color: white;position: relative;}#sk-container-id-1 div.sk-item::before, #sk-container-id-1 div.sk-parallel-item::before {content: \"\";position: absolute;border-left: 1px solid gray;box-sizing: border-box;top: 0;bottom: 0;left: 50%;z-index: -1;}#sk-container-id-1 div.sk-parallel-item {display: flex;flex-direction: column;z-index: 1;position: relative;background-color: white;}#sk-container-id-1 div.sk-parallel-item:first-child::after {align-self: flex-end;width: 50%;}#sk-container-id-1 div.sk-parallel-item:last-child::after {align-self: flex-start;width: 50%;}#sk-container-id-1 div.sk-parallel-item:only-child::after {width: 0;}#sk-container-id-1 div.sk-dashed-wrapped {border: 1px dashed gray;margin: 0 0.4em 0.5em 0.4em;box-sizing: border-box;padding-bottom: 0.4em;background-color: white;}#sk-container-id-1 div.sk-label label {font-family: monospace;font-weight: bold;display: inline-block;line-height: 1.2em;}#sk-container-id-1 div.sk-label-container {text-align: center;}#sk-container-id-1 div.sk-container {/* jupyter's `normalize.less` sets `[hidden] { display: none; }` but bootstrap.min.css set `[hidden] { display: none !important; }` so we also need the `!important` here to be able to override the default hidden behavior on the sphinx rendered scikit-learn.org. See: https://github.com/scikit-learn/scikit-learn/issues/21755 */display: inline-block !important;position: relative;}#sk-container-id-1 div.sk-text-repr-fallback {display: none;}</style><div id=\"sk-container-id-1\" class=\"sk-top-container\"><div class=\"sk-text-repr-fallback\"><pre>FactorAnalyzer(n_factors=4, rotation=&#x27;varimax&#x27;, rotation_kwargs={})</pre><b>In a Jupyter environment, please rerun this cell to show the HTML representation or trust the notebook. <br />On GitHub, the HTML representation is unable to render, please try loading this page with nbviewer.org.</b></div><div class=\"sk-container\" hidden><div class=\"sk-item\"><div class=\"sk-estimator sk-toggleable\"><input class=\"sk-toggleable__control sk-hidden--visually\" id=\"sk-estimator-id-1\" type=\"checkbox\" checked><label for=\"sk-estimator-id-1\" class=\"sk-toggleable__label sk-toggleable__label-arrow\">FactorAnalyzer</label><div class=\"sk-toggleable__content\"><pre>FactorAnalyzer(n_factors=4, rotation=&#x27;varimax&#x27;, rotation_kwargs={})</pre></div></div></div></div></div>"
      ],
      "text/plain": [
       "FactorAnalyzer(n_factors=4, rotation='varimax', rotation_kwargs={})"
      ]
     },
     "execution_count": 9,
     "metadata": {},
     "output_type": "execute_result"
    }
   ],
   "source": [
    "# Factor Analysis\n",
    "fa = fa.FactorAnalyzer(n_factors=4, rotation=\"varimax\")\n",
    "fa.fit(sur_int.to_numpy())"
   ]
  },
  {
   "cell_type": "code",
   "execution_count": 10,
   "id": "442777dc",
   "metadata": {},
   "outputs": [
    {
     "name": "stdout",
     "output_type": "stream",
     "text": [
      "[[-0.15781009  0.42809137  0.05879244 -0.13526353]\n",
      " [ 0.07288456  0.07797564 -0.09376016  0.72270603]\n",
      " [ 0.67791472 -0.10906028  0.25599156  0.12315538]\n",
      " [ 0.45294307  0.19306866 -0.14202126  0.09102673]\n",
      " [ 0.56145097  0.05977592 -0.15846105  0.10167804]\n",
      " [ 0.44508347 -0.03247261 -0.02008422  0.46566123]\n",
      " [ 0.40127304  0.65592569 -0.04681206  0.06621178]\n",
      " [ 0.54536401  0.17133538 -0.06944276 -0.17456788]\n",
      " [ 0.77346813 -0.23204541  0.31139215 -0.08601213]\n",
      " [ 0.13600483  0.1047601  -0.07605281 -0.18510779]\n",
      " [ 0.74442306  0.09827159 -0.06279514  0.13271725]\n",
      " [ 0.61456757  0.12385517 -0.10379084  0.25558761]\n",
      " [ 0.83126401  0.04360931 -0.01602555 -0.06757234]\n",
      " [ 0.18089296  0.57811309 -0.0649642   0.09677393]\n",
      " [ 0.08522971 -0.12722079  0.51492483 -0.01476379]\n",
      " [-0.12867754  0.18571433  0.51035205 -0.01479766]\n",
      " [-0.09884299 -0.09829734  0.31043877 -0.06327068]\n",
      " [-0.12075304 -0.08561138  0.88293088  0.28205674]\n",
      " [ 0.41597758  0.48625238 -0.13041834 -0.03370875]\n",
      " [ 0.30301421  0.14591215  0.26406    -0.08696873]\n",
      " [ 0.64708198  0.39365563 -0.18483816 -0.14750422]\n",
      " [ 0.70663536 -0.07753737  0.08586913 -0.32104333]\n",
      " [ 0.09492154  0.01416832  0.36329692 -0.04207298]\n",
      " [ 0.75374488  0.34338307  0.05243772  0.07115759]\n",
      " [ 0.74497867  0.39843934  0.02755836  0.05399374]\n",
      " [ 0.75557129  0.39188081  0.02353685  0.15929652]]\n"
     ]
    }
   ],
   "source": [
    "# Print factor loadings\n",
    "loadings = fa.loadings_\n",
    "print(loadings)\n"
   ]
  },
  {
   "cell_type": "code",
   "execution_count": 11,
   "id": "51a8c7f8",
   "metadata": {},
   "outputs": [
    {
     "data": {
      "image/png": "[encoded data removed]",
      "text/plain": [
       "<Figure size 1000x800 with 2 Axes>"
      ]
     },
     "metadata": {},
     "output_type": "display_data"
    }
   ],
   "source": [
    "# Create a heatmap of the loadings matrix\n",
    "plt.figure(figsize=(10, 8))\n",
    "plt.imshow(loadings, cmap='hot', interpolation='nearest')\n",
    "plt.colorbar()\n",
    "plt.show()"
   ]
  },
  {
   "cell_type": "code",
   "execution_count": 12,
   "id": "746f58d6",
   "metadata": {},
   "outputs": [
    {
     "name": "stdout",
     "output_type": "stream",
     "text": [
      "Communalities:\n",
      "[0.22991902 0.54248733 0.55216144 0.27088883 0.35424868 0.41639753\n",
      " 0.59783394 0.36207395 0.75646118 0.06952092 0.5853801  0.46913097\n",
      " 0.69772446 0.38052255 0.28881478 0.31172591 0.11980771 0.88103355\n",
      " 0.42762394 0.19039921 0.62960249 0.6157879  0.14296563 0.6938564\n",
      " 0.71742191 0.75038791]\n"
     ]
    }
   ],
   "source": [
    "# Print communalities\n",
    "print(\"Communalities:\")\n",
    "print(fa.get_communalities())"
   ]
  },
  {
   "cell_type": "code",
   "execution_count": 13,
   "id": "0e06d3e2",
   "metadata": {},
   "outputs": [
    {
     "name": "stdout",
     "output_type": "stream",
     "text": [
      "Factor Scores:\n",
      "[[-6.28619681e-01  1.85657507e+00 -5.47518882e-01 -8.81439886e-01]\n",
      " [-1.69513919e+00  1.12800572e+00 -5.80307085e-01 -9.38083258e-01]\n",
      " [-1.20280929e+00  5.89699173e-01 -1.39117040e+00 -2.86780824e+00]\n",
      " [ 1.99352985e+00  4.88864801e-02 -2.07936524e+00  2.18545104e-01]\n",
      " [ 4.11314869e-01 -1.26821781e+00 -7.80870987e-01  6.66227843e-02]\n",
      " [-2.11478578e-01  2.03794873e-01 -6.50677364e-01  2.05175100e-01]\n",
      " [ 7.43577423e-01  6.43368474e-01  1.00212170e-01  1.03878976e+00]\n",
      " [-1.91404812e+00  3.03937336e-01 -1.32917327e+00 -2.15077687e-01]\n",
      " [-8.56474209e-01 -2.96852542e-03  2.93861142e-01  9.20164750e-02]\n",
      " [ 2.36520531e-01  5.51238570e-02  3.48090145e-02 -6.03797255e-01]\n",
      " [-4.68064038e-01 -8.66072315e-01 -7.46976976e-02 -6.21582828e-01]\n",
      " [-8.75004447e-01 -1.08807309e+00 -1.13530120e+00  6.56135574e-01]\n",
      " [-1.19487653e+00  8.94305446e-02  4.89637728e-01  9.91715590e-01]\n",
      " [-3.01457409e-01  1.00436703e-01  1.20733928e+00  1.97792453e-01]\n",
      " [-1.00291285e+00  4.94104239e-01 -1.24637898e-01 -2.07152664e-01]\n",
      " [-2.44664321e+00 -1.14035087e-01  1.61004725e-01  5.75188582e-01]\n",
      " [-1.25577852e+00 -3.56172579e-01 -7.15364601e-01  1.04921623e+00]\n",
      " [-1.17254634e+00  1.21161273e+00 -1.83678827e-01  8.19594299e-01]\n",
      " [ 4.04252055e-01  1.29219384e+00 -1.50176133e+00  1.71572652e-01]\n",
      " [ 4.91676527e-01  1.92667023e-01 -2.44581222e+00 -4.37601311e-01]\n",
      " [-1.17254634e+00  1.21161273e+00 -1.83678827e-01  8.19594299e-01]\n",
      " [-1.18430097e-01  6.13931024e-01  1.08967543e+00  1.32810429e+00]\n",
      " [-9.89414916e-01  1.50327651e+00 -2.60459111e-01  9.36551823e-01]\n",
      " [ 5.45913769e-01 -6.12972159e-01  1.19522535e+00  4.73974785e-01]\n",
      " [ 1.60656289e+00  8.48989940e-01  2.09647080e-01  3.46249469e-01]\n",
      " [-4.01168369e-01 -2.52486333e-01 -1.57889282e-01  1.35125018e+00]\n",
      " [-5.70149383e-01 -1.01616201e+00  1.02586726e+00  8.78902415e-01]\n",
      " [ 5.57012952e-02 -5.78556110e-02  5.09150102e-03  6.76539328e-01]\n",
      " [-1.07970190e+00  5.37184307e-01 -4.86901657e-01  1.41408063e+00]\n",
      " [ 8.96814354e-01 -6.47961123e-01 -7.65034570e-01 -7.04074705e-01]\n",
      " [ 8.69607756e-01  5.95486043e-01 -6.38034765e-01  3.78813890e-01]\n",
      " [-6.37345811e-01 -1.10103303e+00  1.22809789e-01 -4.53823688e-02]\n",
      " [-5.84225989e-01  4.19192978e-02  1.27085137e+00 -1.66638974e-01]\n",
      " [ 8.44456915e-01  4.74671281e-01  6.06587899e-01 -4.49510097e-01]\n",
      " [-1.53043476e+00  3.06961784e-01  5.04757612e-01 -2.77263117e-01]\n",
      " [ 2.52217441e-01  8.37519846e-01 -6.55798203e-01 -1.08047727e+00]\n",
      " [-2.65256850e-01 -3.93585953e-01  1.00265469e+00  6.73951461e-01]\n",
      " [ 8.75266353e-01 -1.57998575e+00  1.05827658e-01 -5.01791894e-01]\n",
      " [-5.83336663e-02 -1.24268667e-01  3.12218037e-01  6.25041491e-01]\n",
      " [-1.50415101e-01 -5.71515174e-01  4.42151196e-01 -1.13739761e+00]\n",
      " [-4.15457039e-01 -1.06805875e+00 -3.79121159e-01  4.16298920e-01]\n",
      " [ 5.67742189e-01  8.66194580e-01  1.18757228e+00 -1.73348443e+00]\n",
      " [ 1.48058286e+00  5.83407108e-02 -1.51677359e+00  6.14654097e-01]\n",
      " [ 8.83987454e-04  4.06199292e-01  1.29140542e+00 -5.16368361e-01]\n",
      " [-2.56762792e-01 -1.15793959e+00  1.58791107e+00 -1.52548106e+00]\n",
      " [ 1.44816078e+00  4.44470212e-01  7.83829994e-01 -6.65724934e-01]\n",
      " [ 8.48845987e-02 -2.16546180e+00 -1.80248568e-01  4.93744228e-01]\n",
      " [ 5.33469477e-01 -1.26207192e+00  7.49244204e-02 -7.46248242e-01]\n",
      " [ 2.00085401e+00  1.00510013e+00  1.59107983e+00  1.15336892e+00]\n",
      " [-1.42738759e+00 -2.49549278e+00 -1.05660559e+00 -4.33123028e-01]\n",
      " [-8.65061805e-01  1.96153239e-01 -7.08579629e-01 -1.83360943e+00]\n",
      " [ 1.70501388e+00  4.92152252e-01 -3.76624177e-01  4.57062215e-01]\n",
      " [ 3.96019551e-01  1.81556217e-01  1.77931142e+00  2.73626712e-01]\n",
      " [ 1.46786633e+00  1.05831826e+00 -2.58997434e-01  4.92588624e-01]\n",
      " [ 6.65334831e-01  2.27176699e-01  6.06908979e-01  8.51815350e-01]\n",
      " [ 2.74710602e-01 -1.41357743e+00  6.77218294e-02 -7.67938267e-02]\n",
      " [-1.97348000e-01  1.12002798e-01  1.05482629e+00  2.70223874e-01]\n",
      " [ 1.99352985e+00  4.88864801e-02 -2.07936524e+00  2.18545104e-01]\n",
      " [ 1.12932119e+00  9.58404342e-01  1.68152593e+00  5.00130353e-01]\n",
      " [ 1.93912284e-01 -5.05357099e-03  1.28422048e+00 -5.57089573e-02]\n",
      " [ 4.81064759e-01  1.00562167e+00 -5.75465459e-01 -1.29708782e+00]\n",
      " [ 8.71967714e-01 -8.31499491e-01 -3.84023296e-01 -4.96746433e-01]\n",
      " [ 8.93449699e-01 -1.27081961e+00  3.39359928e-01 -6.69371560e-01]\n",
      " [ 2.08727248e-01  3.38523715e-01 -2.09368056e+00 -3.60126623e-01]\n",
      " [-7.24940212e-01  6.18001934e-01  1.56431662e-01  7.05744049e-01]\n",
      " [-4.73622394e-01 -3.85109142e-01  2.20529737e+00 -4.48477663e-01]\n",
      " [ 6.28468785e-01 -1.07895394e+00  7.57875359e-01 -1.42062879e+00]\n",
      " [-4.15457039e-01 -1.06805875e+00 -3.79121159e-01  4.16298920e-01]\n",
      " [-1.69905904e-01 -4.61872521e-01 -4.66795073e-01  1.50323510e+00]\n",
      " [ 4.75841709e-01  1.51884316e+00  5.13103174e-01 -9.38694778e-01]]\n"
     ]
    }
   ],
   "source": [
    "# Print factor scores\n",
    "print(\"Factor Scores:\")\n",
    "print(fa.transform(sur_int.to_numpy()))"
   ]
  },
  {
   "cell_type": "code",
   "execution_count": null,
   "id": "3f3bcdff",
   "metadata": {},
   "outputs": [],
   "source": []
  },
  {
   "cell_type": "code",
   "execution_count": null,
   "id": "f7ac7c9e",
   "metadata": {},
   "outputs": [],
   "source": []
  }
 ],
 "metadata": {
  "kernelspec": {
   "display_name": "Python 3 (ipykernel)",
   "language": "python",
   "name": "python3"
  },
  "language_info": {
   "codemirror_mode": {
    "name": "ipython",
    "version": 3
   },
   "file_extension": ".py",
   "mimetype": "text/x-python",
   "name": "python",
   "nbconvert_exporter": "python",
   "pygments_lexer": "ipython3",
   "version": "3.11.5"
  }
 },
 "nbformat": 4,
 "nbformat_minor": 5
}
